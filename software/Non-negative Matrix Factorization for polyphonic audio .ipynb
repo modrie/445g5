{
 "cells": [
  {
   "cell_type": "code",
   "execution_count": 117,
   "metadata": {},
   "outputs": [],
   "source": [
    "import numpy as np\n",
    "import IPython\n",
    "from scipy.io.wavfile import read\n",
    "import matplotlib.pyplot as plt\n",
    "import os \n",
    "import math\n",
    "from scipy.fftpack import fft\n",
    "\n",
    "# Initialize parameters \n",
    "n_fft = 4096     # fft length\n",
    "n_hop = 256      # window overlap 256 - 1024 \n",
    "n_templates = 30 # number of notes in library \n",
    "template_labels = np.array([\"E2\", \"F2\", \"F#2\", \"G2\", \"G#2\", \"A3\", \"A#3\", \"B3\", \"C3\", \"C#3\", \"D3\", \"D#3\", \n",
    "                   \"E3\", \"F3\", \"F#3\", \"G3\", \"G#3\", \"A4\", \"A#4\", \"B4\", \"C4\", \"C#4\", \"D4\", \"D#4\", \n",
    "                   \"E4\", \"F4\", \"F#4\", \"G4\", \"G#4\", \"A5\"])"
   ]
  },
  {
   "cell_type": "code",
   "execution_count": 118,
   "metadata": {},
   "outputs": [],
   "source": [
    "# Loads a .wav file and returns array of sustained data in training and testing array \n",
    "\n",
    "def load_wav(fp):\n",
    "    n_recordings = 59\n",
    "    record_time = 4               # 4 seconds\n",
    "    begin_sustain_time = 1\n",
    "    end_sustain_time = 2\n",
    "    n_data = int(math.ceil(n_recordings/2))\n",
    "   \n",
    "    rate, arr = read(fp)\n",
    "    print(rate)\n",
    "    arr_0 = arr[0:n_recordings*record_time*rate,0]\n",
    "    print(n_recordings*record_time*rate)\n",
    "    print(len(arr_0))\n",
    "    begin_sustain = rate * begin_sustain_time\n",
    "    end_sustain = rate * end_sustain_time\n",
    "\n",
    "    print(end_sustain-begin_sustain)\n",
    "\n",
    "    recordings = arr_0.reshape(n_recordings, record_time*rate)\n",
    "  \n",
    "    sustains = recordings[:, begin_sustain:end_sustain]\n",
    "   \n",
    "    training = np.zeros((n_data, sustains.shape[1]))\n",
    "    testing = np.zeros((n_data, sustains.shape[1]))\n",
    "    training[0,:] = sustains[0,:]\n",
    "    testing = np.zeros((n_data, sustains.shape[1]))\n",
    "    \n",
    "\n",
    "    for i in range(1, training.shape[0]):\n",
    "        training[i,:] = sustains[2*i-1,:]\n",
    "        testing[i,:] = sustains[2*i, :]\n",
    "\n",
    "    return training, testing, end_sustain, begin_sustain, rate\n"
   ]
  },
  {
   "cell_type": "code",
   "execution_count": 119,
   "metadata": {},
   "outputs": [],
   "source": [
    "#  Adds noise to GuitarStrings.wav file from 02/26. Returns array of sustained data in training and testing array \n",
    "def load_data(snr):\n",
    "    n_recordings = 59\n",
    "    record_time = 4               # 4 seconds\n",
    "    begin_sustain_time = 1\n",
    "    end_sustain_time = 2\n",
    "\n",
    "    path = os.getcwd()\n",
    "    noise_audio = path + \"/data/noised_\" + str(snr) + \"db.wav\"\n",
    "    rate, arr = read(path + \"/data/GuitarStrings.wav\")\n",
    "    rate_noise, arr_noise = read(noise_audio)##\n",
    "    arr_0 = arr[0:n_recordings*record_time*rate,0]\n",
    "    arr_noise = arr_noise[0:n_recordings*record_time*rate]##\n",
    "    \n",
    "    begin_sustain = rate * begin_sustain_time\n",
    "    end_sustain = rate * end_sustain_time\n",
    "\n",
    "    print(end_sustain-begin_sustain)\n",
    "\n",
    "    recordings = arr_0.reshape(n_recordings, record_time*rate)\n",
    "    recordings_noise = arr_noise.reshape(n_recordings, record_time*rate)##\n",
    "    \n",
    "    sustains = recordings[:, begin_sustain:end_sustain]\n",
    "    sustains_noise = recordings_noise[:, begin_sustain:end_sustain]##\n",
    "    \n",
    "    training = np.zeros((30, sustains.shape[1]))\n",
    "    noised_1 = np.zeros((30, sustains.shape[1]))##\n",
    "    training[0,:] = sustains[0,:]\n",
    "    noised_1[0,:] = sustains_noise[0,:]##\n",
    "    testing = np.zeros((30, sustains.shape[1]))\n",
    "    noised_2 = np.zeros((30, sustains.shape[1]))##\n",
    "    testing[0,:] = sustains[0,:]\n",
    "    noised_2[0,:] = sustains_noise[0,:]##\n",
    "    for i in range(1, training.shape[0]):\n",
    "        training[i,:] = sustains[2*i-1,:]\n",
    "        testing[i,:] = sustains[2*i, :]\n",
    "        noised_1[i,:] = sustains_noise[2*i-1,:]##\n",
    "        noised_2[i,:] = sustains_noise[2*i, :]##\n",
    "        \n",
    "    return training, testing, noised_1, noised_2\n",
    "        \n",
    "# Read Template data\n",
    "def get_W(training, end_sustain, begin_sustain, rate):\n",
    "\n",
    "    window_size = n_fft\n",
    "    fft_iterations = int(np.floor((end_sustain - begin_sustain) / window_size))\n",
    "    training = training[:, 0:fft_iterations*window_size]\n",
    "    \n",
    "    training = training.reshape(training.shape[0], fft_iterations, window_size)\n",
    "    print(n_fft/2)\n",
    "    ffts = np.log(np.abs(fft(training, n = window_size, axis = 2)[:,:,0:int(n_fft/2)]))\n",
    "   \n",
    "    # W dimension: number of templates x fft length\n",
    "    W = np.mean(ffts, axis=1)[:]  \n",
    "#     W = W[:, 0:window_size]\n",
    "    W = W.T\n",
    "    \n",
    "    print (np.shape(W))\n",
    "    index = np.argmax(W[0,0:1000])\n",
    "    freqArray = np.arange(0, int(n_fft/2), 1.0) * (rate*1.0/n_fft)\n",
    "    print(freqArray[index])\n",
    "\n",
    "    return W\n"
   ]
  },
  {
   "cell_type": "code",
   "execution_count": 120,
   "metadata": {},
   "outputs": [],
   "source": [
    "# beta-divergence cost function \n",
    "# @args\n",
    "# v - input sound vector \n",
    "# W - template library \n",
    "# h - activation vector \n",
    "\n",
    "# calculate cost by interpolating between square euclidian and \n",
    "def beta_divergence (v, W, h): \n",
    "    estimate = np.dot(W,h)\n",
    "    # half euclidean distance (beta = 2)\n",
    "    half_euc = 0.5*np.sum((v - estimate)**2)\n",
    "    # kullback-liebler distance (beta = 1)\n",
    "    k_liebler = np.sum(v*np.log(v/estimate) + v - estimate)\n",
    "    cost = 0.5*(k_liebler + half_euc)\n",
    "\n",
    "    return cost\n",
    "    \n",
    "    \n",
    "    \n",
    "# update activation matrix, h is updated in place\n",
    "def update_estimate (v, W, h, beta):\n",
    "    estimate = np.dot(W,h)\n",
    "    v_matrix = np.outer(v, np.ones(h.shape[0]))\n",
    "    numerator = np.dot( (W * v_matrix).T, np.power(estimate, (beta - 2)))\n",
    "    denominator = np.dot( W.T, estimate**(beta-1) )\n",
    "    h_new = h*(numerator/denominator)\n",
    "\n",
    "    \n",
    "    return h_new\n",
    "\n",
    "    \n",
    "\n",
    "# Iteratively update h until cost < absolute threshold and \n",
    "def iterate (cost_threshold, activation_threshold, v, W, h, beta, max_iter):\n",
    "    i = 0\n",
    "    cost = float('inf')\n",
    "    prev_cost = -float('inf')\n",
    "\n",
    "    while np.abs(prev_cost-cost) > cost_threshold and i < max_iter:\n",
    "        prev_cost = cost\n",
    "        cost = beta_divergence(v,W,h)\n",
    "        \n",
    "        h = update_estimate(v,W,h,beta)\n",
    "        i += 1\n",
    "\n",
    "    return h\n",
    "                       "
   ]
  },
  {
   "cell_type": "code",
   "execution_count": 121,
   "metadata": {},
   "outputs": [],
   "source": [
    "# Handling input data for test (not real time)\n",
    "\n",
    "def test(window_size, cost_threshold, activation_threshold, v, W, h, beta):\n",
    "    \n",
    "    max_iter = 50000\n",
    "    # Loop for overlapping fft\n",
    "    result = np.zeros((30))\n",
    "    num_iter = 0\n",
    "    for i in range (0, len(v), n_hop):\n",
    "        num_iter += 1\n",
    "        h = np.ones(n_templates)\n",
    "        h /= 10\n",
    "\n",
    "        #Perform fft on window \n",
    "        if i + window_size > len(v):\n",
    "            time_sequence = v[i:len(v)]\n",
    "        else: \n",
    "            time_sequence = v[i: i + window_size]\n",
    "        \n",
    "        ffts = fft(time_sequence, 4096)\n",
    "        fft_window = np.log(abs(ffts[0:int(n_fft/2)]))\n",
    "        #Iterate to find notes \n",
    "        h = iterate(cost_threshold, activation_threshold, fft_window, W, h, beta, max_iter)\n",
    "        result += h\n",
    "        \n",
    "    result /= num_iter\n",
    "    notes = template_labels[result > activation_threshold]\n",
    "    return notes, result\n",
    "        \n",
    "        \n",
    "        "
   ]
  },
  {
   "cell_type": "code",
   "execution_count": 122,
   "metadata": {
    "scrolled": false
   },
   "outputs": [
    {
     "name": "stdout",
     "output_type": "stream",
     "text": [
      "16000\n",
      "3776000\n",
      "3776000\n",
      "16000\n",
      "2048.0\n",
      "(2048, 30)\n",
      "31.25\n",
      "i:  0 output:  0\n"
     ]
    },
    {
     "name": "stderr",
     "output_type": "stream",
     "text": [
      "/usr/local/lib/python3.6/site-packages/ipykernel_launcher.py:21: RuntimeWarning: divide by zero encountered in log\n",
      "/usr/local/lib/python3.6/site-packages/ipykernel_launcher.py:13: RuntimeWarning: invalid value encountered in log\n",
      "  del sys.path[0]\n"
     ]
    },
    {
     "name": "stdout",
     "output_type": "stream",
     "text": [
      "i:  1 output:  1\n",
      "i:  2 output:  0\n",
      "i:  3 output:  4\n",
      "i:  4 output:  23\n",
      "i:  5 output:  5\n",
      "i:  6 output:  6\n",
      "i:  7 output:  7\n",
      "i:  8 output:  8\n",
      "i:  9 output:  9\n",
      "i:  10 output:  10\n",
      "i:  11 output:  11\n",
      "i:  12 output:  10\n",
      "i:  13 output:  13\n",
      "i:  14 output:  14\n",
      "i:  15 output:  15\n",
      "i:  16 output:  16\n",
      "i:  17 output:  17\n",
      "i:  18 output:  18\n",
      "i:  19 output:  19\n",
      "i:  20 output:  20\n",
      "i:  21 output:  21\n",
      "i:  22 output:  22\n",
      "i:  23 output:  23\n",
      "i:  24 output:  24\n",
      "i:  25 output:  25\n",
      "i:  26 output:  26\n",
      "i:  27 output:  18\n",
      "i:  28 output:  28\n",
      "i:  29 output:  29\n"
     ]
    }
   ],
   "source": [
    "#snr = 10\n",
    "#train_data, test_data, noised_1, noised_2 = load_data(snr)\n",
    "\n",
    "path = os.getcwd()\n",
    "fp = path + \"/data/GuitarStrings_16k.wav\"\n",
    "train_data, test_data, end_sustain, begin_sustain, rate = load_wav(fp)\n",
    "\n",
    "\n",
    "h = np.random.normal(0,1,n_templates)\n",
    "W = get_W(train_data, end_sustain, begin_sustain, rate)\n",
    "for i in range(0,30):\n",
    "    #notes, h_result = test( n_fft,  0.008, 0.05, noised_1[i,0:n_fft/2], W, h, 2)\n",
    "    notes, h_result = test( n_fft,  0.008, 0.05, test_data[i,0:int(n_fft/2)], W, h, 2)\n",
    "    print(\"i: \", i, \"output: \", np.argmax(h_result))\n",
    "#     print(template_labels[np.argmax(h_result)])"
   ]
  },
  {
   "cell_type": "code",
   "execution_count": 123,
   "metadata": {},
   "outputs": [
    {
     "data": {
      "text/plain": [
       "array(['A5'],\n",
       "      dtype='<U3')"
      ]
     },
     "execution_count": 123,
     "metadata": {},
     "output_type": "execute_result"
    }
   ],
   "source": [
    "notes\n"
   ]
  },
  {
   "cell_type": "code",
   "execution_count": 448,
   "metadata": {},
   "outputs": [
    {
     "name": "stdout",
     "output_type": "stream",
     "text": [
      "7\n"
     ]
    },
    {
     "data": {
      "text/plain": [
       "'B3'"
      ]
     },
     "execution_count": 448,
     "metadata": {},
     "output_type": "execute_result"
    }
   ],
   "source": [
    "print(np.argmax(h_result))\n",
    "template_labels[np.argmax(h_result)]\n"
   ]
  }
 ],
 "metadata": {
  "kernelspec": {
   "display_name": "Python 3",
   "language": "python",
   "name": "python3"
  },
  "language_info": {
   "codemirror_mode": {
    "name": "ipython",
    "version": 3
   },
   "file_extension": ".py",
   "mimetype": "text/x-python",
   "name": "python",
   "nbconvert_exporter": "python",
   "pygments_lexer": "ipython3",
   "version": "3.6.3"
  }
 },
 "nbformat": 4,
 "nbformat_minor": 2
}
