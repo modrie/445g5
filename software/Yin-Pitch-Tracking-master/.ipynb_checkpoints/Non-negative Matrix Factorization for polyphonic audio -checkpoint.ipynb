{
 "cells": [
  {
   "cell_type": "code",
   "execution_count": null,
   "metadata": {},
   "outputs": [],
   "source": [
    "import numpy as np \n",
    "\n",
    "# Initialize parameters \n",
    "n_fft = 4096     # fft length\n",
    "fs = 44100       # sampling rate\n",
    "n_hop = 256      # window overlap 256 - 1024 \n",
    "n_templates = 30 # number of notes in library \n",
    "template_labels = n_templates*[None]\n"
   ]
  },
  {
   "cell_type": "code",
   "execution_count": null,
   "metadata": {},
   "outputs": [],
   "source": [
    "# Writing NMF for polyphonic music analysis \n",
    "\n",
    "# Read Template data\n",
    "\n",
    "# Create Template Matrix W\n",
    "    # Each column is an averaged FFT over the note's sustain \n",
    "    \n"
   ]
  },
  {
   "cell_type": "code",
   "execution_count": 2,
   "metadata": {},
   "outputs": [
    {
     "ename": "SyntaxError",
     "evalue": "unexpected EOF while parsing (<ipython-input-2-ed69032ac9f3>, line 33)",
     "output_type": "error",
     "traceback": [
      "\u001b[0;36m  File \u001b[0;32m\"<ipython-input-2-ed69032ac9f3>\"\u001b[0;36m, line \u001b[0;32m33\u001b[0m\n\u001b[0;31m    \u001b[0m\n\u001b[0m    ^\u001b[0m\n\u001b[0;31mSyntaxError\u001b[0m\u001b[0;31m:\u001b[0m unexpected EOF while parsing\n"
     ]
    }
   ],
   "source": [
    "# beta-divergence cost function \n",
    "# @args\n",
    "# v - input sound vector \n",
    "# W - template library \n",
    "# h - activation vector \n",
    "\n",
    "# calculate cost by interpolating between square euclidian and \n",
    "def beta_divergence (v, W, h): \n",
    "    estimate = np.dot(W,h)\n",
    "    # half euclidean distance (beta = 2)\n",
    "    half_euc = np.sum(0.5*(v - estimate)**2)\n",
    "    # kullback-liebler distance (beta = 1)\n",
    "    k_liebler = np.sum(v*np.log(v/estimate) + v - estimate)\n",
    "    \n",
    "    print (\"half_euclidean\", half_euc)\n",
    "    print (\"k_liebler\", k_liebler)\n",
    "    return 0.5 * (half_euc + k_liebler)\n",
    "    \n",
    "    \n",
    "    \n",
    "# update activation matrix, h is updated in place\n",
    "def update_estimate (v, W, h, beta):\n",
    "    estimate = np.dot(W,h)\n",
    "    v_matrix = np.outer(v, np.ones(np.shape(h,0)))\n",
    "    numerator = np.dot( (W * v_matrix).T, estimate** (beta - 2))\n",
    "    denominator = np.dot( W.T, estimate**(beta-1) )\n",
    "    h *= (numerator/denominator)\n",
    "    \n",
    "\n",
    "# Iteratively update h until cost < absolute threshold and \n",
    "def iterate (cost_threshold, activation_threshold, v, W, h, beta):\n",
    "    cost = float('inf')\n",
    "    while cost > cost_threshold:\n",
    "        update_estimate(v,W,h,beta)\n",
    "        cost = beta_divergence(v,W,h)\n",
    "        \n",
    "    notes = template_labels[h > activation_threshold]\n",
    "    return notes \n",
    "\n",
    "        \n",
    "    \n",
    "                       "
   ]
  },
  {
   "cell_type": "code",
   "execution_count": null,
   "metadata": {},
   "outputs": [],
   "source": []
  }
 ],
 "metadata": {
  "kernelspec": {
   "display_name": "Python 3",
   "language": "python",
   "name": "python3"
  },
  "language_info": {
   "codemirror_mode": {
    "name": "ipython",
    "version": 3
   },
   "file_extension": ".py",
   "mimetype": "text/x-python",
   "name": "python",
   "nbconvert_exporter": "python",
   "pygments_lexer": "ipython3",
   "version": "3.6.3"
  }
 },
 "nbformat": 4,
 "nbformat_minor": 2
}
