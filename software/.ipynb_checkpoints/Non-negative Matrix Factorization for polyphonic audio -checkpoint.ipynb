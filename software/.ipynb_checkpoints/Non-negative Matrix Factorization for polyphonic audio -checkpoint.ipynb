{
 "cells": [
  {
   "cell_type": "code",
   "execution_count": 13,
   "metadata": {},
   "outputs": [],
   "source": [
    "import numpy as np\n",
    "import IPython\n",
    "from scipy.io.wavfile import read\n",
    "import matplotlib.pyplot as plt\n",
    "import os \n",
    "from scipy.fftpack import fft"
   ]
  },
  {
   "cell_type": "code",
   "execution_count": 14,
   "metadata": {},
   "outputs": [],
   "source": [
    "# Writing NMF for polyphonic music analysis \n",
    "\n",
    "# Loads GuitarStrings.wav file from 02/26 and returns array of sustained data in training and testing array \n",
    "def load_data(snr):\n",
    "    n_recordings = 59\n",
    "    record_time = 4               # 4 seconds\n",
    "    begin_sustain_time = 1\n",
    "    end_sustain_time = 2\n",
    "\n",
    "    path = os.getcwd()\n",
    "    noise_audio = path + \"/data/noised_\" + str(snr) + \"db.wav\"\n",
    "    rate, arr = read(path + \"/data/GuitarStrings_16k.wav\")\n",
    "    rate_noise, arr_noise = read(noise_audio)##\n",
    "    arr_0 = arr[0:n_recordings*record_time*rate,0]\n",
    "    arr_noise = arr_noise[0:n_recordings*record_time*rate]##\n",
    "    \n",
    "    begin_sustain = rate * begin_sustain_time\n",
    "    end_sustain = rate * end_sustain_time\n",
    "\n",
    "    print(end_sustain-begin_sustain)\n",
    "\n",
    "    recordings = arr_0.reshape(n_recordings, record_time*rate)\n",
    "    recordings_noise = arr_noise.reshape(n_recordings, record_time*rate)##\n",
    "    \n",
    "    sustains = recordings[:, begin_sustain:end_sustain]\n",
    "    sustains_noise = recordings_noise[:, begin_sustain:end_sustain]##\n",
    "    \n",
    "    training = np.zeros((30, sustains.shape[1]))\n",
    "    noised_1 = np.zeros((30, sustains.shape[1]))##\n",
    "    training[0,:] = sustains[0,:]\n",
    "    noised_1[0,:] = sustains_noise[0,:]##\n",
    "    testing = np.zeros((30, sustains.shape[1]))\n",
    "    noised_2 = np.zeros((30, sustains.shape[1]))##\n",
    "    testing[0,:] = sustains[0,:]\n",
    "    noised_2[0,:] = sustains_noise[0,:]##\n",
    "    for i in range(1, training.shape[0]):\n",
    "        training[i,:] = sustains[2*i-1,:]\n",
    "        testing[i,:] = sustains[2*i, :]\n",
    "        noised_1[i,:] = sustains_noise[2*i-1,:]##\n",
    "        noised_2[i,:] = sustains_noise[2*i, :]##\n",
    "        \n",
    "    return training, testing, noised_1, noised_2\n",
    "        \n",
    "# Read Template data\n",
    "def get_W(training):\n",
    "\n",
    "    window_size = n_fft\n",
    "    fft_iterations = np.floor((end_sustain - begin_sustain) / window_size)\n",
    "    training = training[:, 0:fft_iterations*window_size]\n",
    "\n",
    "    training = training.reshape(training.shape[0], fft_iterations, window_size)\n",
    "    ffts = np.log(np.abs(fft(training, n = window_size, axis = 2)[:,:,0:n_fft/2]))\n",
    "   \n",
    "    # W dimension: number of templates x fft length\n",
    "    W = np.mean(ffts, axis=1)[:]  \n",
    "#     W = W[:, 0:window_size]\n",
    "    W = W.T\n",
    "    \n",
    "    print (np.shape(W))\n",
    "    index = np.argmax(W[0,0:1000])\n",
    "    freqArray = np.arange(0, (n_fft/2), 1.0) * (rate*1.0/n_fft)\n",
    "    print(freqArray[index])\n",
    "\n",
    "    return W\n"
   ]
  },
  {
   "cell_type": "code",
   "execution_count": 15,
   "metadata": {},
   "outputs": [],
   "source": [
    "# beta-divergence cost function \n",
    "# @args\n",
    "# v - input sound vector \n",
    "# W - template library \n",
    "# h - activation vector \n",
    "\n",
    "# calculate cost by interpolating between square euclidian and \n",
    "def beta_divergence (v, W, h): \n",
    "    estimate = np.dot(W,h)\n",
    "    # half euclidean distance (beta = 2)\n",
    "    half_euc = 0.5*np.sum((v - estimate)**2)\n",
    "    # kullback-liebler distance (beta = 1)\n",
    "    k_liebler = np.sum(v*np.log(v/estimate) + v - estimate)\n",
    "    cost = 0.5*(k_liebler + half_euc)\n",
    "\n",
    "    return cost\n",
    "    \n",
    "    \n",
    "    \n",
    "# update activation matrix, h is updated in place\n",
    "def update_estimate (v, W, h, beta):\n",
    "    estimate = np.dot(W,h)\n",
    "    v_matrix = np.outer(v, np.ones(h.shape[0]))\n",
    "    numerator = np.dot( (W * v_matrix).T, np.power(estimate, (beta - 2)))\n",
    "    denominator = np.dot( W.T, estimate**(beta-1) )\n",
    "    h_new = h*(numerator/denominator)\n",
    "\n",
    "    \n",
    "    return h_new\n",
    "\n",
    "    \n",
    "\n",
    "# Iteratively update h until cost < absolute threshold and \n",
    "def iterate (cost_threshold, activation_threshold, v, W, h, beta, max_iter):\n",
    "    i = 0\n",
    "    cost = float('inf')\n",
    "    prev_cost = -float('inf')\n",
    "\n",
    "    while np.abs(prev_cost-cost) > cost_threshold and i < max_iter:\n",
    "        prev_cost = cost\n",
    "        cost = beta_divergence(v,W,h)\n",
    "        \n",
    "        h = update_estimate(v,W,h,beta)\n",
    "        i += 1\n",
    "\n",
    "    return h\n",
    "                       "
   ]
  },
  {
   "cell_type": "code",
   "execution_count": 16,
   "metadata": {},
   "outputs": [],
   "source": [
    "# Handling input data for test (not real time)\n",
    "\n",
    "def test(window_size, cost_threshold, activation_threshold, v, W, h, beta):\n",
    "    max_iter = 50000\n",
    "    # Loop for overlapping fft\n",
    "    result = np.zeros((30))\n",
    "    num_iter = 0\n",
    "    for i in range (0, len(v), n_hop):\n",
    "        num_iter += 1\n",
    "        h = np.ones(n_templates)\n",
    "        h /= 10\n",
    "\n",
    "        #Perform fft on window \n",
    "        if i + window_size > len(v):\n",
    "            time_sequence = v[i:len(v)]\n",
    "        else: \n",
    "            time_sequence = v[i: i + window_size]\n",
    "        \n",
    "        ffts = fft(time_sequence, 4096)\n",
    "        fft_window = np.log(abs(ffts[0:n_fft/2]))\n",
    "        #Iterate to find notes \n",
    "        h = iterate(cost_threshold, activation_threshold, fft_window, W, h, beta, max_iter)\n",
    "        result += h\n",
    "        \n",
    "    result /= num_iter\n",
    "    notes = template_labels[result > activation_threshold]\n",
    "    return notes, result\n",
    "        \n",
    "        \n",
    "        "
   ]
  },
  {
   "cell_type": "code",
   "execution_count": 18,
   "metadata": {
    "scrolled": false
   },
   "outputs": [
    {
     "ename": "FileNotFoundError",
     "evalue": "[Errno 2] No such file or directory: '/Users/tedlao/Documents/445g5/software/data/GuitarStrings_16k.wav'",
     "output_type": "error",
     "traceback": [
      "\u001b[0;31m---------------------------------------------------------------------------\u001b[0m",
      "\u001b[0;31mFileNotFoundError\u001b[0m                         Traceback (most recent call last)",
      "\u001b[0;32m<ipython-input-18-7eda5ae63f63>\u001b[0m in \u001b[0;36m<module>\u001b[0;34m()\u001b[0m\n\u001b[1;32m      1\u001b[0m \u001b[0msnr\u001b[0m \u001b[0;34m=\u001b[0m \u001b[0;36m10\u001b[0m\u001b[0;34m\u001b[0m\u001b[0m\n\u001b[0;32m----> 2\u001b[0;31m \u001b[0mtrain_data\u001b[0m\u001b[0;34m,\u001b[0m \u001b[0mtest_data\u001b[0m\u001b[0;34m,\u001b[0m \u001b[0mnoised_1\u001b[0m\u001b[0;34m,\u001b[0m \u001b[0mnoised_2\u001b[0m \u001b[0;34m=\u001b[0m \u001b[0mload_data\u001b[0m\u001b[0;34m(\u001b[0m\u001b[0msnr\u001b[0m\u001b[0;34m)\u001b[0m\u001b[0;34m\u001b[0m\u001b[0m\n\u001b[0m\u001b[1;32m      3\u001b[0m \u001b[0mh\u001b[0m \u001b[0;34m=\u001b[0m \u001b[0mnp\u001b[0m\u001b[0;34m.\u001b[0m\u001b[0mrandom\u001b[0m\u001b[0;34m.\u001b[0m\u001b[0mnormal\u001b[0m\u001b[0;34m(\u001b[0m\u001b[0;36m0\u001b[0m\u001b[0;34m,\u001b[0m\u001b[0;36m1\u001b[0m\u001b[0;34m,\u001b[0m\u001b[0mn_templates\u001b[0m\u001b[0;34m)\u001b[0m\u001b[0;34m\u001b[0m\u001b[0m\n\u001b[1;32m      4\u001b[0m \u001b[0mW\u001b[0m \u001b[0;34m=\u001b[0m \u001b[0mget_W\u001b[0m\u001b[0;34m(\u001b[0m\u001b[0mtrain_data\u001b[0m\u001b[0;34m)\u001b[0m\u001b[0;34m\u001b[0m\u001b[0m\n\u001b[1;32m      5\u001b[0m \u001b[0;32mfor\u001b[0m \u001b[0mi\u001b[0m \u001b[0;32min\u001b[0m \u001b[0mrange\u001b[0m\u001b[0;34m(\u001b[0m\u001b[0;36m0\u001b[0m\u001b[0;34m,\u001b[0m\u001b[0;36m30\u001b[0m\u001b[0;34m)\u001b[0m\u001b[0;34m:\u001b[0m\u001b[0;34m\u001b[0m\u001b[0m\n",
      "\u001b[0;32m<ipython-input-14-69beb025970f>\u001b[0m in \u001b[0;36mload_data\u001b[0;34m(snr)\u001b[0m\n\u001b[1;32m     10\u001b[0m     \u001b[0mpath\u001b[0m \u001b[0;34m=\u001b[0m \u001b[0mos\u001b[0m\u001b[0;34m.\u001b[0m\u001b[0mgetcwd\u001b[0m\u001b[0;34m(\u001b[0m\u001b[0;34m)\u001b[0m\u001b[0;34m\u001b[0m\u001b[0m\n\u001b[1;32m     11\u001b[0m     \u001b[0mnoise_audio\u001b[0m \u001b[0;34m=\u001b[0m \u001b[0mpath\u001b[0m \u001b[0;34m+\u001b[0m \u001b[0;34m\"/data/noised_\"\u001b[0m \u001b[0;34m+\u001b[0m \u001b[0mstr\u001b[0m\u001b[0;34m(\u001b[0m\u001b[0msnr\u001b[0m\u001b[0;34m)\u001b[0m \u001b[0;34m+\u001b[0m \u001b[0;34m\"db.wav\"\u001b[0m\u001b[0;34m\u001b[0m\u001b[0m\n\u001b[0;32m---> 12\u001b[0;31m     \u001b[0mrate\u001b[0m\u001b[0;34m,\u001b[0m \u001b[0marr\u001b[0m \u001b[0;34m=\u001b[0m \u001b[0mread\u001b[0m\u001b[0;34m(\u001b[0m\u001b[0mpath\u001b[0m \u001b[0;34m+\u001b[0m \u001b[0;34m\"/data/GuitarStrings_16k.wav\"\u001b[0m\u001b[0;34m)\u001b[0m\u001b[0;34m\u001b[0m\u001b[0m\n\u001b[0m\u001b[1;32m     13\u001b[0m     \u001b[0mrate_noise\u001b[0m\u001b[0;34m,\u001b[0m \u001b[0marr_noise\u001b[0m \u001b[0;34m=\u001b[0m \u001b[0mread\u001b[0m\u001b[0;34m(\u001b[0m\u001b[0mnoise_audio\u001b[0m\u001b[0;34m)\u001b[0m\u001b[0;31m##\u001b[0m\u001b[0;34m\u001b[0m\u001b[0m\n\u001b[1;32m     14\u001b[0m     \u001b[0marr_0\u001b[0m \u001b[0;34m=\u001b[0m \u001b[0marr\u001b[0m\u001b[0;34m[\u001b[0m\u001b[0;36m0\u001b[0m\u001b[0;34m:\u001b[0m\u001b[0mn_recordings\u001b[0m\u001b[0;34m*\u001b[0m\u001b[0mrecord_time\u001b[0m\u001b[0;34m*\u001b[0m\u001b[0mrate\u001b[0m\u001b[0;34m,\u001b[0m\u001b[0;36m0\u001b[0m\u001b[0;34m]\u001b[0m\u001b[0;34m\u001b[0m\u001b[0m\n",
      "\u001b[0;32m/usr/local/lib/python3.6/site-packages/scipy/io/wavfile.py\u001b[0m in \u001b[0;36mread\u001b[0;34m(filename, mmap)\u001b[0m\n\u001b[1;32m    231\u001b[0m         \u001b[0mmmap\u001b[0m \u001b[0;34m=\u001b[0m \u001b[0;32mFalse\u001b[0m\u001b[0;34m\u001b[0m\u001b[0m\n\u001b[1;32m    232\u001b[0m     \u001b[0;32melse\u001b[0m\u001b[0;34m:\u001b[0m\u001b[0;34m\u001b[0m\u001b[0m\n\u001b[0;32m--> 233\u001b[0;31m         \u001b[0mfid\u001b[0m \u001b[0;34m=\u001b[0m \u001b[0mopen\u001b[0m\u001b[0;34m(\u001b[0m\u001b[0mfilename\u001b[0m\u001b[0;34m,\u001b[0m \u001b[0;34m'rb'\u001b[0m\u001b[0;34m)\u001b[0m\u001b[0;34m\u001b[0m\u001b[0m\n\u001b[0m\u001b[1;32m    234\u001b[0m \u001b[0;34m\u001b[0m\u001b[0m\n\u001b[1;32m    235\u001b[0m     \u001b[0;32mtry\u001b[0m\u001b[0;34m:\u001b[0m\u001b[0;34m\u001b[0m\u001b[0m\n",
      "\u001b[0;31mFileNotFoundError\u001b[0m: [Errno 2] No such file or directory: '/Users/tedlao/Documents/445g5/software/data/GuitarStrings_16k.wav'"
     ]
    }
   ],
   "source": [
    "snr = 10\n",
    "train_data, test_data, noised_1, noised_2 = load_data(snr)\n",
    "h = np.random.normal(0,1,n_templates)\n",
    "W = get_W(train_data)\n",
    "for i in range(0,30):\n",
    "    notes, h_result = test( n_fft,  0.008, 0.05, noised_1[i,0:n_fft/2], W, h, 2)\n",
    "    print(\"i: \", i, \"output: \", np.argmax(h_result))\n",
    "#     print(template_labels[np.argmax(h_result)])"
   ]
  },
  {
   "cell_type": "code",
   "execution_count": 417,
   "metadata": {},
   "outputs": [
    {
     "data": {
      "text/plain": [
       "array([], \n",
       "      dtype='<U3')"
      ]
     },
     "execution_count": 417,
     "metadata": {},
     "output_type": "execute_result"
    }
   ],
   "source": [
    "notes\n"
   ]
  },
  {
   "cell_type": "code",
   "execution_count": 448,
   "metadata": {},
   "outputs": [
    {
     "name": "stdout",
     "output_type": "stream",
     "text": [
      "7\n"
     ]
    },
    {
     "data": {
      "text/plain": [
       "'B3'"
      ]
     },
     "execution_count": 448,
     "metadata": {},
     "output_type": "execute_result"
    }
   ],
   "source": [
    "print(np.argmax(h_result))\n",
    "template_labels[np.argmax(h_result)]\n"
   ]
  }
 ],
 "metadata": {
  "kernelspec": {
   "display_name": "Python 3",
   "language": "python",
   "name": "python3"
  },
  "language_info": {
   "codemirror_mode": {
    "name": "ipython",
    "version": 3
   },
   "file_extension": ".py",
   "mimetype": "text/x-python",
   "name": "python",
   "nbconvert_exporter": "python",
   "pygments_lexer": "ipython3",
   "version": "3.6.3"
  }
 },
 "nbformat": 4,
 "nbformat_minor": 2
}
